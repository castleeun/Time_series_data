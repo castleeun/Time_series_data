{
  "nbformat": 4,
  "nbformat_minor": 0,
  "metadata": {
    "colab": {
      "provenance": [],
      "gpuType": "T4"
    },
    "kernelspec": {
      "name": "python3",
      "display_name": "Python 3"
    },
    "language_info": {
      "name": "python"
    },
    "accelerator": "GPU"
  },
  "cells": [
    {
      "cell_type": "markdown",
      "source": [
        "## Github 코드 다운로드 (데이터셋 포함)"
      ],
      "metadata": {
        "id": "8YFJD6FnymGo"
      }
    },
    {
      "cell_type": "markdown",
      "source": [
        "### Preprocess된 data는 Time_series_data/dataset/daejeon_subway"
      ],
      "metadata": {
        "id": "LyLE6cBg91EI"
      }
    },
    {
      "cell_type": "code",
      "execution_count": 5,
      "metadata": {
        "colab": {
          "base_uri": "https://localhost:8080/"
        },
        "id": "BWEc3D2Bdco8",
        "outputId": "a7600ef9-3754-4ddd-9c37-8ab0984282e5"
      },
      "outputs": [
        {
          "output_type": "stream",
          "name": "stdout",
          "text": [
            "fatal: destination path 'Time_series_data' already exists and is not an empty directory.\n"
          ]
        }
      ],
      "source": [
        "!git clone https://github.com/castleeun/Time_series_data.git"
      ]
    },
    {
      "cell_type": "markdown",
      "source": [
        "### 환경 정보\n",
        "- **운영체제(OS):** Ubuntu 18.04  \n",
        "- **GPU:** RTX 2080 Ti  \n",
        "\n",
        "### 개발환경 Dependencies\n",
        "아래는 프로젝트에 필요한 주요 라이브러리와 버전 정보입니다:\n",
        "\n",
        "- `einops`: 0.5.0  \n",
        "- `matplotlib`: 3.7.0  \n",
        "- `numpy`: 1.23.5  \n",
        "- `pandas`: 1.5.3  \n",
        "- `patool`: 1.12  \n",
        "- `reformer-pytorch`: 1.4.4  \n",
        "- `scikit-learn`: 1.2.2  \n",
        "- `scipy`: 1.10.1  \n",
        "- `sktime`: 0.16.1  \n",
        "- `sympy`: 1.11.1  \n",
        "- `torch`: 2.0.0  \n",
        "- `tqdm`: 4.64.1  \n",
        "\n",
        "### 특이사항\n",
        "- **Colab 환경**에서는 일부 Dependency 문제로 인해 버전 명시를 하지 않았습니다.\n"
      ],
      "metadata": {
        "id": "TwqV0uYUy4kr"
      }
    },
    {
      "cell_type": "markdown",
      "source": [
        "### Setting up the environment"
      ],
      "metadata": {
        "id": "LCkzzQXdzrqc"
      }
    },
    {
      "cell_type": "code",
      "source": [
        "try:\n",
        "    import google.colab\n",
        "    from google.colab import output as colab_output\n",
        "    colab_output.enable_custom_widget_manager()\n",
        "    running_in_colab = True\n",
        "except ImportError:\n",
        "    running_in_colab = False"
      ],
      "metadata": {
        "id": "CP-IzR3bzrHa"
      },
      "execution_count": 2,
      "outputs": []
    },
    {
      "cell_type": "code",
      "source": [
        "import subprocess\n",
        "\n",
        "if running_in_colab:\n",
        "    print(\"running in colab\")\n",
        "    subprocess.run([\"pip\", \"install\", \"-r\", \"Time_series_data/requirements-colab.txt\"], capture_output=True, text=True)\n",
        "else:\n",
        "    subprocess.run([\"pip\", \"install\", \"-r\", \"Time_series_data/requirements.txt\"], capture_output=True, text=True)"
      ],
      "metadata": {
        "colab": {
          "base_uri": "https://localhost:8080/"
        },
        "id": "47QTMWUzIC8Z",
        "outputId": "a4a13f83-c42a-44fe-be60-74c1dac42457"
      },
      "execution_count": 3,
      "outputs": [
        {
          "output_type": "stream",
          "name": "stdout",
          "text": [
            "running in colab\n"
          ]
        }
      ]
    },
    {
      "cell_type": "markdown",
      "source": [
        "### 하이퍼파라미터 설명\n",
        "#### 제출 시 사용한 하이퍼파라미터 값은 하단에 실행코드에 명시되어있습니다.\n",
        "- `--task_name`: 수행할 작업의 유형 (예: `long_term_forecast`는 장기 시계열 예측을 의미)\n",
        "- `--is_training`: 모델의 학습 모드 여부를 지정 (`1`은 학습 모드, `0`은 추론 모드)\n",
        "- `--seq_len`: 입력 시퀀스 길이 (모델이 예측에 사용할 과거 시점의 수) (31일=620)\n",
        "- `--label_len`: 학습 시 사용되는 시퀀스 중 레이블의 길이 (1주일=140)\n",
        "- `--pred_len`: 예측해야 할 미래 시점의 길이 (31일=620)\n",
        "- `--e_layers` / `--d_layers`: 인코더/디코더의 레이어 수\n",
        "- `--enc_in` / `--dec_in` / `--c_out`: 입력 및 출력 채널 수 (특성의 개수)\n",
        "- `--d_model`: 모델의 숨겨진 레이어 차원\n",
        "- `--batch_size`: 한 번의 학습/추론에서 처리되는 데이터 샘플 수\n",
        "- `--train_epochs`: 최대 학습 에포크 수. validation loss가 높아지는 overfitting이 3번 발견되는 경우 학습 중단함\n",
        "- `--num_workers`: 데이터 로더의 병렬 작업자 수 (데이터 준비 속도를 높이기 위해 사용)\n",
        "- `--factor`: 모델의 특정 알고리즘 동작을 제어 (예: 어텐션 메커니즘에서의 축소 비율)\n"
      ],
      "metadata": {
        "id": "llorndM29JqI"
      }
    },
    {
      "cell_type": "markdown",
      "source": [
        "### Training"
      ],
      "metadata": {
        "id": "e7OWl_Uk9Odb"
      }
    },
    {
      "cell_type": "code",
      "source": [
        "import subprocess\n",
        "\n",
        "# Define the hyperparameters and configurations\n",
        "model_name = \"TimeXer\"\n",
        "description = \"Timexer-MS\"\n",
        "\n",
        "# Loop through the dataset indices\n",
        "for i in range(1101, 1123):\n",
        "    print(f\"training station {i}\")\n",
        "    command = [\n",
        "        \"python3\", \"-u\", \"Time_series_data/run.py\",\n",
        "        \"--task_name\", \"long_term_forecast\",\n",
        "        \"--is_training\", \"1\",\n",
        "        \"--root_path\", \"./Time_series_data/dataset/daejeon_subway/final/station/\",\n",
        "        \"--data_path\", f\"{i}.csv\",\n",
        "        \"--model_id\", f\"{i}_80_620_f3_l3_620in\",\n",
        "        \"--model\", model_name,\n",
        "        \"--data\", \"custom\",\n",
        "        \"--features\", \"MS\",\n",
        "        \"--target\", \"Count\",\n",
        "        \"--seq_len\", \"620\",\n",
        "        \"--label_len\", \"140\",\n",
        "        \"--pred_len\", \"620\",\n",
        "        \"--e_layers\", \"3\",\n",
        "        \"--d_layers\", \"3\",\n",
        "        \"--enc_in\", \"862\",\n",
        "        \"--dec_in\", \"862\",\n",
        "        \"--c_out\", \"862\",\n",
        "        \"--d_model\", \"512\",\n",
        "        \"--des\", description,\n",
        "        \"--batch_size\", \"32\",\n",
        "        \"--itr\", \"1\",\n",
        "        \"--use_amp\",\n",
        "        \"--train_epochs\", \"20\",\n",
        "        \"--num_workers\", \"20\",\n",
        "        \"--factor\", \"3\",\n",
        "    ]\n",
        "\n",
        "    # Execute the command\n",
        "    result = subprocess.run(command, capture_output=True, text=True)\n",
        "\n",
        "    # Print the output or error for debugging\n",
        "    if result.returncode == 0:\n",
        "        print(f\"Execution for {i} completed successfully.\")\n",
        "        print(result.stdout)\n",
        "    else:\n",
        "        print(f\"Execution for {i} failed with error:\")\n",
        "        print(result.stderr)\n"
      ],
      "metadata": {
        "id": "-0iWMgSjyxZ5",
        "colab": {
          "base_uri": "https://localhost:8080/",
          "height": 1000
        },
        "outputId": "45392698-ba06-40e4-abe0-56eb095a7d97"
      },
      "execution_count": 4,
      "outputs": [
        {
          "output_type": "stream",
          "name": "stdout",
          "text": [
            "training station 1101\n",
            "Execution for 1101 completed successfully.\n",
            "True\n",
            "Args in experiment:\n",
            "\u001b[1mBasic Config\u001b[0m\n",
            "  Task Name:          long_term_forecast  Is Training:        1                   \n",
            "  Model ID:           1101_80_620_f3_l3_620inModel:              TimeXer             \n",
            "\n",
            "\u001b[1mData Loader\u001b[0m\n",
            "  Data:               custom              Root Path:          ./Time_series_data/dataset/daejeon_subway/final/station/\n",
            "  Data Path:          1101.csv            Features:           MS                  \n",
            "  Target:             Count               Freq:               h                   \n",
            "  Checkpoints:        ./checkpoints/      \n",
            "\n",
            "\u001b[1mForecasting Task\u001b[0m\n",
            "  Seq Len:            620                 Label Len:          140                 \n",
            "  Pred Len:           620                 Seasonal Patterns:  Monthly             \n",
            "  Inverse:            0                   \n",
            "\n",
            "\u001b[1mModel Parameters\u001b[0m\n",
            "  Top k:              5                   Num Kernels:        6                   \n",
            "  Enc In:             862                 Dec In:             862                 \n",
            "  C Out:              862                 d model:            512                 \n",
            "  n heads:            8                   e layers:           3                   \n",
            "  d layers:           3                   d FF:               2048                \n",
            "  Moving Avg:         25                  Factor:             3                   \n",
            "  Distil:             1                   Dropout:            0.1                 \n",
            "  Embed:              timeF               Activation:         gelu                \n",
            "\n",
            "\u001b[1mRun Parameters\u001b[0m\n",
            "  Num Workers:        20                  Itr:                1                   \n",
            "  Train Epochs:       20                  Batch Size:         32                  \n",
            "  Patience:           3                   Learning Rate:      0.0001              \n",
            "  Des:                Timexer-MS          Loss:               MSE                 \n",
            "  Lradj:              type1               Use Amp:            1                   \n",
            "\n",
            "\u001b[1mGPU\u001b[0m\n",
            "  Use GPU:            1                   GPU:                0                   \n",
            "  Use Multi GPU:      0                   Devices:            0,1,2,3             \n",
            "\n",
            "\u001b[1mDe-stationary Projector Params\u001b[0m\n",
            "  P Hidden Dims:      128, 128            P Hidden Layers:    2                   \n",
            "\n",
            "Use GPU: cuda:0\n",
            ">>>>>>>start training : long_term_forecast_1101_80_620_f3_l3_620in_TimeXer_custom_ftMS_sl620_ll140_pl620_dm512_nh8_el3_dl3_df2048_expand2_dc4_fc3_ebtimeF_dtTrue_Timexer-MS_0>>>>>>>>>>>>>>>>>>>>>>>>>>\n",
            "number of features:  6\n",
            "train 13164\n",
            "number of features:  6\n",
            "val 1440\n",
            "number of features:  6\n",
            "test 3496\n",
            "\titers: 100, epoch: 1 | loss: 0.2527635\n",
            "\tspeed: 0.2995s/iter; left time: 2437.9099s\n",
            "\titers: 200, epoch: 1 | loss: 0.2275137\n",
            "\tspeed: 0.1406s/iter; left time: 1130.6881s\n",
            "\titers: 300, epoch: 1 | loss: 0.2084282\n",
            "\tspeed: 0.1731s/iter; left time: 1374.3020s\n",
            "\titers: 400, epoch: 1 | loss: 0.2126975\n",
            "\tspeed: 0.1623s/iter; left time: 1272.2155s\n",
            "Epoch: 1 cost time: 79.39300227165222\n",
            "Epoch: 1, Steps: 412 | Train Loss: 0.2656286 Vali Loss: 0.4236794 Test Loss: 0.1344358\n",
            "Validation loss decreased (inf --> 0.423679).  Saving model ...\n",
            "Updating learning rate to 0.0001\n",
            "\titers: 100, epoch: 2 | loss: 0.1985561\n",
            "\tspeed: 0.2273s/iter; left time: 1756.7077s\n",
            "\titers: 200, epoch: 2 | loss: 0.1833786\n",
            "\tspeed: 0.1511s/iter; left time: 1153.0287s\n",
            "\titers: 300, epoch: 2 | loss: 0.1730844\n",
            "\tspeed: 0.1413s/iter; left time: 1063.6318s\n",
            "\titers: 400, epoch: 2 | loss: 0.2008806\n",
            "\tspeed: 0.1705s/iter; left time: 1266.3614s\n",
            "Epoch: 2 cost time: 65.3898913860321\n",
            "Epoch: 2, Steps: 412 | Train Loss: 0.1991536 Vali Loss: 0.4011781 Test Loss: 0.1295541\n",
            "Validation loss decreased (0.423679 --> 0.401178).  Saving model ...\n",
            "Updating learning rate to 5e-05\n",
            "\titers: 100, epoch: 3 | loss: 0.1792071\n",
            "\tspeed: 0.2381s/iter; left time: 1742.4706s\n",
            "\titers: 200, epoch: 3 | loss: 0.1976447\n",
            "\tspeed: 0.1643s/iter; left time: 1185.5740s\n",
            "\titers: 300, epoch: 3 | loss: 0.1943301\n",
            "\tspeed: 0.1445s/iter; left time: 1028.7549s\n",
            "\titers: 400, epoch: 3 | loss: 0.1933493\n",
            "\tspeed: 0.1436s/iter; left time: 1007.5166s\n",
            "Epoch: 3 cost time: 65.47146224975586\n",
            "Epoch: 3, Steps: 412 | Train Loss: 0.1829154 Vali Loss: 0.3970015 Test Loss: 0.1165581\n",
            "Validation loss decreased (0.401178 --> 0.397002).  Saving model ...\n",
            "Updating learning rate to 2.5e-05\n",
            "\titers: 100, epoch: 4 | loss: 0.1752242\n",
            "\tspeed: 0.2303s/iter; left time: 1590.3116s\n",
            "\titers: 200, epoch: 4 | loss: 0.1817878\n",
            "\tspeed: 0.1426s/iter; left time: 970.2255s\n",
            "\titers: 300, epoch: 4 | loss: 0.1605791\n",
            "\tspeed: 0.1535s/iter; left time: 1029.4145s\n",
            "\titers: 400, epoch: 4 | loss: 0.1781135\n",
            "\tspeed: 0.1638s/iter; left time: 1081.9150s\n",
            "Epoch: 4 cost time: 64.01775455474854\n",
            "Epoch: 4, Steps: 412 | Train Loss: 0.1760697 Vali Loss: 0.3970755 Test Loss: 0.1139751\n",
            "EarlyStopping counter: 1 out of 3\n",
            "Updating learning rate to 1.25e-05\n",
            "\titers: 100, epoch: 5 | loss: 0.1517675\n",
            "\tspeed: 0.2269s/iter; left time: 1473.4201s\n",
            "\titers: 200, epoch: 5 | loss: 0.1703236\n",
            "\tspeed: 0.1633s/iter; left time: 1043.7058s\n",
            "\titers: 300, epoch: 5 | loss: 0.1712958\n",
            "\tspeed: 0.1498s/iter; left time: 942.6064s\n",
            "\titers: 400, epoch: 5 | loss: 0.1820966\n",
            "\tspeed: 0.1456s/iter; left time: 901.7165s\n",
            "Epoch: 5 cost time: 65.5083281993866\n",
            "Epoch: 5, Steps: 412 | Train Loss: 0.1722058 Vali Loss: 0.3923122 Test Loss: 0.1141832\n",
            "Validation loss decreased (0.397002 --> 0.392312).  Saving model ...\n",
            "Updating learning rate to 6.25e-06\n",
            "\titers: 100, epoch: 6 | loss: 0.1581068\n",
            "\tspeed: 0.2263s/iter; left time: 1376.0230s\n",
            "\titers: 200, epoch: 6 | loss: 0.1588549\n",
            "\tspeed: 0.1434s/iter; left time: 857.7072s\n",
            "\titers: 300, epoch: 6 | loss: 0.1675584\n",
            "\tspeed: 0.1635s/iter; left time: 961.5131s\n",
            "\titers: 400, epoch: 6 | loss: 0.1661164\n",
            "\tspeed: 0.1668s/iter; left time: 964.3080s\n",
            "Epoch: 6 cost time: 64.80261063575745\n",
            "Epoch: 6, Steps: 412 | Train Loss: 0.1693953 Vali Loss: 0.3918781 Test Loss: 0.1149277\n",
            "Validation loss decreased (0.392312 --> 0.391878).  Saving model ...\n",
            "Updating learning rate to 3.125e-06\n",
            "\titers: 100, epoch: 7 | loss: 0.1752714\n",
            "\tspeed: 0.2300s/iter; left time: 1303.6220s\n",
            "\titers: 200, epoch: 7 | loss: 0.1504491\n",
            "\tspeed: 0.1609s/iter; left time: 895.9174s\n",
            "\titers: 300, epoch: 7 | loss: 0.1714710\n",
            "\tspeed: 0.1387s/iter; left time: 758.3011s\n",
            "\titers: 400, epoch: 7 | loss: 0.1717381\n",
            "\tspeed: 0.1591s/iter; left time: 854.1011s\n",
            "Epoch: 7 cost time: 64.93687725067139\n",
            "Epoch: 7, Steps: 412 | Train Loss: 0.1689582 Vali Loss: 0.3920426 Test Loss: 0.1135822\n",
            "EarlyStopping counter: 1 out of 3\n",
            "Updating learning rate to 1.5625e-06\n",
            "\titers: 100, epoch: 8 | loss: 0.1705060\n",
            "\tspeed: 0.2348s/iter; left time: 1234.5752s\n",
            "\titers: 200, epoch: 8 | loss: 0.1518487\n",
            "\tspeed: 0.1547s/iter; left time: 797.9319s\n",
            "\titers: 300, epoch: 8 | loss: 0.1676562\n",
            "\tspeed: 0.1635s/iter; left time: 826.7631s\n",
            "\titers: 400, epoch: 8 | loss: 0.1617809\n",
            "\tspeed: 0.1663s/iter; left time: 824.1444s\n",
            "Epoch: 8 cost time: 66.93134021759033\n",
            "Epoch: 8, Steps: 412 | Train Loss: 0.1686629 Vali Loss: 0.3929456 Test Loss: 0.1132643\n",
            "EarlyStopping counter: 2 out of 3\n",
            "Updating learning rate to 7.8125e-07\n",
            "\titers: 100, epoch: 9 | loss: 0.1701076\n",
            "\tspeed: 0.2258s/iter; left time: 1093.8210s\n",
            "\titers: 200, epoch: 9 | loss: 0.1740414\n",
            "\tspeed: 0.1583s/iter; left time: 751.2558s\n",
            "\titers: 300, epoch: 9 | loss: 0.1470049\n",
            "\tspeed: 0.1431s/iter; left time: 664.6736s\n",
            "\titers: 400, epoch: 9 | loss: 0.1576244\n",
            "\tspeed: 0.1512s/iter; left time: 687.3498s\n",
            "Epoch: 9 cost time: 64.32440519332886\n",
            "Epoch: 9, Steps: 412 | Train Loss: 0.1682201 Vali Loss: 0.3924888 Test Loss: 0.1132765\n",
            "EarlyStopping counter: 3 out of 3\n",
            "Early stopping\n",
            ">>>>>>>testing : long_term_forecast_1101_80_620_f3_l3_620in_TimeXer_custom_ftMS_sl620_ll140_pl620_dm512_nh8_el3_dl3_df2048_expand2_dc4_fc3_ebtimeF_dtTrue_Timexer-MS_0<<<<<<<<<<<<<<<<<<<<<<<<<<<<<<<<<\n",
            "number of features:  6\n",
            "test 3496\n",
            "True\n",
            "True\n",
            "True\n",
            "True\n",
            "True\n",
            "True\n",
            "True\n",
            "True\n",
            "True\n",
            "True\n",
            "True\n",
            "True\n",
            "True\n",
            "True\n",
            "True\n",
            "True\n",
            "True\n",
            "True\n",
            "True\n",
            "True\n",
            "True\n",
            "True\n",
            "True\n",
            "True\n",
            "True\n",
            "True\n",
            "True\n",
            "True\n",
            "True\n",
            "True\n",
            "True\n",
            "True\n",
            "True\n",
            "True\n",
            "True\n",
            "True\n",
            "True\n",
            "True\n",
            "True\n",
            "True\n",
            "True\n",
            "True\n",
            "True\n",
            "True\n",
            "True\n",
            "True\n",
            "True\n",
            "True\n",
            "True\n",
            "True\n",
            "True\n",
            "True\n",
            "True\n",
            "True\n",
            "True\n",
            "True\n",
            "True\n",
            "True\n",
            "True\n",
            "True\n",
            "True\n",
            "True\n",
            "True\n",
            "True\n",
            "True\n",
            "True\n",
            "True\n",
            "True\n",
            "True\n",
            "True\n",
            "True\n",
            "True\n",
            "True\n",
            "True\n",
            "True\n",
            "True\n",
            "True\n",
            "True\n",
            "True\n",
            "True\n",
            "True\n",
            "True\n",
            "True\n",
            "True\n",
            "True\n",
            "True\n",
            "True\n",
            "True\n",
            "True\n",
            "True\n",
            "True\n",
            "True\n",
            "True\n",
            "True\n",
            "True\n",
            "True\n",
            "True\n",
            "True\n",
            "True\n",
            "True\n",
            "True\n",
            "True\n",
            "True\n",
            "True\n",
            "True\n",
            "True\n",
            "True\n",
            "True\n",
            "True\n",
            "True\n",
            "test shape: (3496, 620, 1) (3496, 620, 1)\n",
            "test shape: (3496, 620, 1) (3496, 620, 1)\n",
            "mse:0.11475486308336258, mae:0.1958896666765213\n",
            "\n",
            "training station 1102\n"
          ]
        },
        {
          "output_type": "error",
          "ename": "KeyboardInterrupt",
          "evalue": "",
          "traceback": [
            "\u001b[0;31m---------------------------------------------------------------------------\u001b[0m",
            "\u001b[0;31mKeyboardInterrupt\u001b[0m                         Traceback (most recent call last)",
            "\u001b[0;32m<ipython-input-4-e963daf46f03>\u001b[0m in \u001b[0;36m<cell line: 8>\u001b[0;34m()\u001b[0m\n\u001b[1;32m     38\u001b[0m \u001b[0;34m\u001b[0m\u001b[0m\n\u001b[1;32m     39\u001b[0m     \u001b[0;31m# Execute the command\u001b[0m\u001b[0;34m\u001b[0m\u001b[0;34m\u001b[0m\u001b[0m\n\u001b[0;32m---> 40\u001b[0;31m     \u001b[0mresult\u001b[0m \u001b[0;34m=\u001b[0m \u001b[0msubprocess\u001b[0m\u001b[0;34m.\u001b[0m\u001b[0mrun\u001b[0m\u001b[0;34m(\u001b[0m\u001b[0mcommand\u001b[0m\u001b[0;34m,\u001b[0m \u001b[0mcapture_output\u001b[0m\u001b[0;34m=\u001b[0m\u001b[0;32mTrue\u001b[0m\u001b[0;34m,\u001b[0m \u001b[0mtext\u001b[0m\u001b[0;34m=\u001b[0m\u001b[0;32mTrue\u001b[0m\u001b[0;34m)\u001b[0m\u001b[0;34m\u001b[0m\u001b[0;34m\u001b[0m\u001b[0m\n\u001b[0m\u001b[1;32m     41\u001b[0m \u001b[0;34m\u001b[0m\u001b[0m\n\u001b[1;32m     42\u001b[0m     \u001b[0;31m# Print the output or error for debugging\u001b[0m\u001b[0;34m\u001b[0m\u001b[0;34m\u001b[0m\u001b[0m\n",
            "\u001b[0;32m/usr/lib/python3.10/subprocess.py\u001b[0m in \u001b[0;36mrun\u001b[0;34m(input, capture_output, timeout, check, *popenargs, **kwargs)\u001b[0m\n\u001b[1;32m    503\u001b[0m     \u001b[0;32mwith\u001b[0m \u001b[0mPopen\u001b[0m\u001b[0;34m(\u001b[0m\u001b[0;34m*\u001b[0m\u001b[0mpopenargs\u001b[0m\u001b[0;34m,\u001b[0m \u001b[0;34m**\u001b[0m\u001b[0mkwargs\u001b[0m\u001b[0;34m)\u001b[0m \u001b[0;32mas\u001b[0m \u001b[0mprocess\u001b[0m\u001b[0;34m:\u001b[0m\u001b[0;34m\u001b[0m\u001b[0;34m\u001b[0m\u001b[0m\n\u001b[1;32m    504\u001b[0m         \u001b[0;32mtry\u001b[0m\u001b[0;34m:\u001b[0m\u001b[0;34m\u001b[0m\u001b[0;34m\u001b[0m\u001b[0m\n\u001b[0;32m--> 505\u001b[0;31m             \u001b[0mstdout\u001b[0m\u001b[0;34m,\u001b[0m \u001b[0mstderr\u001b[0m \u001b[0;34m=\u001b[0m \u001b[0mprocess\u001b[0m\u001b[0;34m.\u001b[0m\u001b[0mcommunicate\u001b[0m\u001b[0;34m(\u001b[0m\u001b[0minput\u001b[0m\u001b[0;34m,\u001b[0m \u001b[0mtimeout\u001b[0m\u001b[0;34m=\u001b[0m\u001b[0mtimeout\u001b[0m\u001b[0;34m)\u001b[0m\u001b[0;34m\u001b[0m\u001b[0;34m\u001b[0m\u001b[0m\n\u001b[0m\u001b[1;32m    506\u001b[0m         \u001b[0;32mexcept\u001b[0m \u001b[0mTimeoutExpired\u001b[0m \u001b[0;32mas\u001b[0m \u001b[0mexc\u001b[0m\u001b[0;34m:\u001b[0m\u001b[0;34m\u001b[0m\u001b[0;34m\u001b[0m\u001b[0m\n\u001b[1;32m    507\u001b[0m             \u001b[0mprocess\u001b[0m\u001b[0;34m.\u001b[0m\u001b[0mkill\u001b[0m\u001b[0;34m(\u001b[0m\u001b[0;34m)\u001b[0m\u001b[0;34m\u001b[0m\u001b[0;34m\u001b[0m\u001b[0m\n",
            "\u001b[0;32m/usr/lib/python3.10/subprocess.py\u001b[0m in \u001b[0;36mcommunicate\u001b[0;34m(self, input, timeout)\u001b[0m\n\u001b[1;32m   1152\u001b[0m \u001b[0;34m\u001b[0m\u001b[0m\n\u001b[1;32m   1153\u001b[0m             \u001b[0;32mtry\u001b[0m\u001b[0;34m:\u001b[0m\u001b[0;34m\u001b[0m\u001b[0;34m\u001b[0m\u001b[0m\n\u001b[0;32m-> 1154\u001b[0;31m                 \u001b[0mstdout\u001b[0m\u001b[0;34m,\u001b[0m \u001b[0mstderr\u001b[0m \u001b[0;34m=\u001b[0m \u001b[0mself\u001b[0m\u001b[0;34m.\u001b[0m\u001b[0m_communicate\u001b[0m\u001b[0;34m(\u001b[0m\u001b[0minput\u001b[0m\u001b[0;34m,\u001b[0m \u001b[0mendtime\u001b[0m\u001b[0;34m,\u001b[0m \u001b[0mtimeout\u001b[0m\u001b[0;34m)\u001b[0m\u001b[0;34m\u001b[0m\u001b[0;34m\u001b[0m\u001b[0m\n\u001b[0m\u001b[1;32m   1155\u001b[0m             \u001b[0;32mexcept\u001b[0m \u001b[0mKeyboardInterrupt\u001b[0m\u001b[0;34m:\u001b[0m\u001b[0;34m\u001b[0m\u001b[0;34m\u001b[0m\u001b[0m\n\u001b[1;32m   1156\u001b[0m                 \u001b[0;31m# https://bugs.python.org/issue25942\u001b[0m\u001b[0;34m\u001b[0m\u001b[0;34m\u001b[0m\u001b[0m\n",
            "\u001b[0;32m/usr/lib/python3.10/subprocess.py\u001b[0m in \u001b[0;36m_communicate\u001b[0;34m(self, input, endtime, orig_timeout)\u001b[0m\n\u001b[1;32m   2019\u001b[0m                             'failed to raise TimeoutExpired.')\n\u001b[1;32m   2020\u001b[0m \u001b[0;34m\u001b[0m\u001b[0m\n\u001b[0;32m-> 2021\u001b[0;31m                     \u001b[0mready\u001b[0m \u001b[0;34m=\u001b[0m \u001b[0mselector\u001b[0m\u001b[0;34m.\u001b[0m\u001b[0mselect\u001b[0m\u001b[0;34m(\u001b[0m\u001b[0mtimeout\u001b[0m\u001b[0;34m)\u001b[0m\u001b[0;34m\u001b[0m\u001b[0;34m\u001b[0m\u001b[0m\n\u001b[0m\u001b[1;32m   2022\u001b[0m                     \u001b[0mself\u001b[0m\u001b[0;34m.\u001b[0m\u001b[0m_check_timeout\u001b[0m\u001b[0;34m(\u001b[0m\u001b[0mendtime\u001b[0m\u001b[0;34m,\u001b[0m \u001b[0morig_timeout\u001b[0m\u001b[0;34m,\u001b[0m \u001b[0mstdout\u001b[0m\u001b[0;34m,\u001b[0m \u001b[0mstderr\u001b[0m\u001b[0;34m)\u001b[0m\u001b[0;34m\u001b[0m\u001b[0;34m\u001b[0m\u001b[0m\n\u001b[1;32m   2023\u001b[0m \u001b[0;34m\u001b[0m\u001b[0m\n",
            "\u001b[0;32m/usr/lib/python3.10/selectors.py\u001b[0m in \u001b[0;36mselect\u001b[0;34m(self, timeout)\u001b[0m\n\u001b[1;32m    414\u001b[0m         \u001b[0mready\u001b[0m \u001b[0;34m=\u001b[0m \u001b[0;34m[\u001b[0m\u001b[0;34m]\u001b[0m\u001b[0;34m\u001b[0m\u001b[0;34m\u001b[0m\u001b[0m\n\u001b[1;32m    415\u001b[0m         \u001b[0;32mtry\u001b[0m\u001b[0;34m:\u001b[0m\u001b[0;34m\u001b[0m\u001b[0;34m\u001b[0m\u001b[0m\n\u001b[0;32m--> 416\u001b[0;31m             \u001b[0mfd_event_list\u001b[0m \u001b[0;34m=\u001b[0m \u001b[0mself\u001b[0m\u001b[0;34m.\u001b[0m\u001b[0m_selector\u001b[0m\u001b[0;34m.\u001b[0m\u001b[0mpoll\u001b[0m\u001b[0;34m(\u001b[0m\u001b[0mtimeout\u001b[0m\u001b[0;34m)\u001b[0m\u001b[0;34m\u001b[0m\u001b[0;34m\u001b[0m\u001b[0m\n\u001b[0m\u001b[1;32m    417\u001b[0m         \u001b[0;32mexcept\u001b[0m \u001b[0mInterruptedError\u001b[0m\u001b[0;34m:\u001b[0m\u001b[0;34m\u001b[0m\u001b[0;34m\u001b[0m\u001b[0m\n\u001b[1;32m    418\u001b[0m             \u001b[0;32mreturn\u001b[0m \u001b[0mready\u001b[0m\u001b[0;34m\u001b[0m\u001b[0;34m\u001b[0m\u001b[0m\n",
            "\u001b[0;31mKeyboardInterrupt\u001b[0m: "
          ]
        }
      ]
    },
    {
      "cell_type": "markdown",
      "source": [
        "### Inference\n",
        "#### please set the station number"
      ],
      "metadata": {
        "id": "Crayo6zYHSd_"
      }
    },
    {
      "cell_type": "code",
      "source": [
        "import subprocess\n",
        "\n",
        "# Define variables\n",
        "model_name = \"TimeXer\"\n",
        "description = \"Timexer-MS\"\n",
        "station = 1101\n",
        "\n",
        "# Construct the command\n",
        "command = [\n",
        "    \"python3\", \"-u\", \"Time_series_data/run.py\",\n",
        "    \"--task_name\", \"long_term_forecast\",\n",
        "    \"--is_training\", \"0\",\n",
        "    \"--root_path\", \"./Time_series_data/dataset/daejeon_subway/final/one_month_station\",\n",
        "    \"--data_path\", f\"{station}.csv\",\n",
        "    \"--model_id\", f\"{station}_80_620_f3_l3_620in\",\n",
        "    \"--model\", model_name,\n",
        "    \"--data\", \"custom\",\n",
        "    \"--features\", \"MS\",\n",
        "    \"--target\", \"Count\",\n",
        "    \"--seq_len\", \"620\",\n",
        "    \"--label_len\", \"140\",\n",
        "    \"--pred_len\", \"620\",\n",
        "    \"--e_layers\", \"3\",\n",
        "    \"--d_layers\", \"3\",\n",
        "    \"--enc_in\", \"862\",\n",
        "    \"--dec_in\", \"862\",\n",
        "    \"--c_out\", \"862\",\n",
        "    \"--d_model\", \"512\",\n",
        "    \"--des\", description,\n",
        "    \"--batch_size\", \"1\",\n",
        "    \"--itr\", \"1\",\n",
        "    \"--use_amp\",\n",
        "    \"--train_epochs\", \"20\",\n",
        "    \"--num_workers\", \"20\",\n",
        "    \"--factor\", \"3\",\n",
        "    \"--inverse\",\n",
        "    \"--infer\"\n",
        "]\n",
        "\n",
        "# Run the command\n",
        "result = subprocess.run(command, capture_output=True, text=True)\n",
        "\n",
        "# Output the results\n",
        "if result.returncode == 0:\n",
        "    print(\"Execution completed successfully.\")\n",
        "    print(result.stdout)\n",
        "else:\n",
        "    print(\"Execution failed with the following error:\")\n",
        "    print(result.stderr)"
      ],
      "metadata": {
        "id": "1inCcpEA4Vo5",
        "colab": {
          "base_uri": "https://localhost:8080/"
        },
        "outputId": "c45510f2-1ac8-4e90-ecf5-4df1af4280d8"
      },
      "execution_count": 9,
      "outputs": [
        {
          "output_type": "stream",
          "name": "stdout",
          "text": [
            "Execution completed successfully.\n",
            "True\n",
            "Args in experiment:\n",
            "\u001b[1mBasic Config\u001b[0m\n",
            "  Task Name:          long_term_forecast  Is Training:        0                   \n",
            "  Model ID:           1101_80_620_f3_l3_620inModel:              TimeXer             \n",
            "\n",
            "\u001b[1mData Loader\u001b[0m\n",
            "  Data:               custom              Root Path:          ./Time_series_data/dataset/daejeon_subway/final/one_month_station\n",
            "  Data Path:          1101.csv            Features:           MS                  \n",
            "  Target:             Count               Freq:               h                   \n",
            "  Checkpoints:        ./checkpoints/      \n",
            "\n",
            "\u001b[1mForecasting Task\u001b[0m\n",
            "  Seq Len:            620                 Label Len:          140                 \n",
            "  Pred Len:           620                 Seasonal Patterns:  Monthly             \n",
            "  Inverse:            1                   \n",
            "\n",
            "\u001b[1mModel Parameters\u001b[0m\n",
            "  Top k:              5                   Num Kernels:        6                   \n",
            "  Enc In:             862                 Dec In:             862                 \n",
            "  C Out:              862                 d model:            512                 \n",
            "  n heads:            8                   e layers:           3                   \n",
            "  d layers:           3                   d FF:               2048                \n",
            "  Moving Avg:         25                  Factor:             3                   \n",
            "  Distil:             1                   Dropout:            0.1                 \n",
            "  Embed:              timeF               Activation:         gelu                \n",
            "\n",
            "\u001b[1mRun Parameters\u001b[0m\n",
            "  Num Workers:        20                  Itr:                1                   \n",
            "  Train Epochs:       20                  Batch Size:         1                   \n",
            "  Patience:           3                   Learning Rate:      0.0001              \n",
            "  Des:                Timexer-MS          Loss:               MSE                 \n",
            "  Lradj:              type1               Use Amp:            1                   \n",
            "\n",
            "\u001b[1mGPU\u001b[0m\n",
            "  Use GPU:            1                   GPU:                0                   \n",
            "  Use Multi GPU:      0                   Devices:            0,1,2,3             \n",
            "\n",
            "\u001b[1mDe-stationary Projector Params\u001b[0m\n",
            "  P Hidden Dims:      128, 128            P Hidden Layers:    2                   \n",
            "\n",
            "Use GPU: cuda:0\n",
            ">>>>>>>testing : long_term_forecast_1101_80_620_f3_l3_620in_TimeXer_custom_ftMS_sl620_ll140_pl620_dm512_nh8_el3_dl3_df2048_expand2_dc4_fc3_ebtimeF_dtTrue_Timexer-MS_0<<<<<<<<<<<<<<<<<<<<<<<<<<<<<<<<<\n",
            "number of features:  6\n",
            "loading model\n",
            "torch.Size([1, 620, 7]) torch.Size([1, 760, 7])\n",
            "True\n",
            "test shape: (1, 620, 1) (1, 620, 1)\n",
            "test shape: (1, 620, 1) (1, 620, 1)\n",
            "mse:56384.91015625, mae:199.27716064453125\n",
            "\n"
          ]
        }
      ]
    },
    {
      "cell_type": "markdown",
      "source": [
        "### Visualize results"
      ],
      "metadata": {
        "id": "urMlzh5yZvBr"
      }
    },
    {
      "cell_type": "code",
      "source": [
        "!pip install pymupdf Pillow"
      ],
      "metadata": {
        "colab": {
          "base_uri": "https://localhost:8080/"
        },
        "id": "SX0MHaaKafpl",
        "outputId": "17cafa8c-a8a4-4566-ddf8-9ba7ae5da0fd"
      },
      "execution_count": 10,
      "outputs": [
        {
          "output_type": "stream",
          "name": "stdout",
          "text": [
            "Collecting pymupdf\n",
            "  Downloading PyMuPDF-1.24.14-cp39-abi3-manylinux2014_x86_64.manylinux_2_17_x86_64.whl.metadata (3.4 kB)\n",
            "Requirement already satisfied: Pillow in /usr/local/lib/python3.10/dist-packages (11.0.0)\n",
            "Downloading PyMuPDF-1.24.14-cp39-abi3-manylinux2014_x86_64.manylinux_2_17_x86_64.whl (19.8 MB)\n",
            "\u001b[2K   \u001b[90m━━━━━━━━━━━━━━━━━━━━━━━━━━━━━━━━━━━━━━━━\u001b[0m \u001b[32m19.8/19.8 MB\u001b[0m \u001b[31m79.8 MB/s\u001b[0m eta \u001b[36m0:00:00\u001b[0m\n",
            "\u001b[?25hInstalling collected packages: pymupdf\n",
            "Successfully installed pymupdf-1.24.14\n"
          ]
        }
      ]
    },
    {
      "cell_type": "code",
      "source": [
        "import fitz  # PyMuPDF\n",
        "import matplotlib.pyplot as plt\n",
        "from PIL import Image\n",
        "\n",
        "station = 1101\n",
        "graph_path = f'./test_results/long_term_forecast_{station}_80_620_f3_l3_620in_TimeXer_custom_ftMS_sl620_ll140_pl620_dm512_nh8_el3_dl3_df2048_expand2_dc4_fc3_ebtimeF_dtTrue_Timexer-MS_0/0.pdf'\n",
        "pix = fitz.open(graph_path)[0].get_pixmap()\n",
        "image = Image.frombytes(\"RGB\", [pix.width, pix.height], pix.samples)\n",
        "plt.imshow(image)\n",
        "plt.axis('off')\n",
        "plt.show()\n"
      ],
      "metadata": {
        "colab": {
          "base_uri": "https://localhost:8080/",
          "height": 406
        },
        "id": "KlSFH54PSgbD",
        "outputId": "e64d030d-45cd-43d5-e617-d18b33cf415c"
      },
      "execution_count": 18,
      "outputs": [
        {
          "output_type": "display_data",
          "data": {
            "text/plain": [
              "<Figure size 640x480 with 1 Axes>"
            ],
            "image/png": "[encoded data removed]"
          },
          "metadata": {}
        }
      ]
    },
    {
      "cell_type": "markdown",
      "source": [
        "#### Description\n",
        "`result`는 `(1240, 1)` 형태로 구성되어 있습니다. 앞쪽 절반 `(620, 1)`은 주어진 데이터(10월 1일부터 10월 31일까지)를 나타내며, 뒤쪽 절반 `(620, 1)`은 주어진 데이터를 기반으로 예측한 결과입니다.\n",
        "\n",
        "#### Submission\n",
        "본 대회에서 제출해야 하는 12월 1일의 일일 데이터는 `result`의 마지막 20개 데이터에 해당합니다. 단, 1시부터 5시까지의 데이터는 `0`으로 채워 제출합니다."
      ],
      "metadata": {
        "id": "XVk8ZZ1ib02F"
      }
    },
    {
      "cell_type": "code",
      "source": [
        "import numpy as np\n",
        "\n",
        "station = 1101\n",
        "result_path = f'./results/long_term_forecast_{station}_80_620_f3_l3_620in_TimeXer_custom_ftMS_sl620_ll140_pl620_dm512_nh8_el3_dl3_df2048_expand2_dc4_fc3_ebtimeF_dtTrue_Timexer-MS_0/pred.npy'\n",
        "result = np.load(result_path)\n",
        "result = result[0,-20:]\n",
        "print(result)\n"
      ],
      "metadata": {
        "colab": {
          "base_uri": "https://localhost:8080/"
        },
        "id": "-4EP__Tva4Tu",
        "outputId": "2125688a-875f-43ec-ade6-65ff048cd120"
      },
      "execution_count": 23,
      "outputs": [
        {
          "output_type": "stream",
          "name": "stdout",
          "text": [
            "[[ 19.139227]\n",
            " [ 83.51405 ]\n",
            " [ 93.59774 ]\n",
            " [113.32669 ]\n",
            " [200.8602  ]\n",
            " [194.79765 ]\n",
            " [210.34561 ]\n",
            " [201.39453 ]\n",
            " [202.57735 ]\n",
            " [214.56541 ]\n",
            " [200.67296 ]\n",
            " [175.39981 ]\n",
            " [168.27547 ]\n",
            " [156.80345 ]\n",
            " [142.1894  ]\n",
            " [ 94.62072 ]\n",
            " [ 93.37853 ]\n",
            " [ 63.419758]\n",
            " [ 50.85168 ]\n",
            " [ 30.538168]]\n"
          ]
        }
      ]
    },
    {
      "cell_type": "code",
      "source": [],
      "metadata": {
        "id": "WmKPGD6Nc22N"
      },
      "execution_count": null,
      "outputs": []
    }
  ]
}